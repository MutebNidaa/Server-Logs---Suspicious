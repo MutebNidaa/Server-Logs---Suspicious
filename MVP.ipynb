{
 "cells": [
  {
   "cell_type": "code",
   "execution_count": 56,
   "id": "16e05bec",
   "metadata": {},
   "outputs": [],
   "source": [
    "# importing libs\n",
    "import pandas as pd\n",
    "import numpy as np\n",
    "\n",
    "# visualization imports\n",
    "import matplotlib.pyplot as plt\n",
    "import seaborn as sns\n",
    "\n",
    "\n",
    "%matplotlib inline"
   ]
  },
  {
   "cell_type": "code",
   "execution_count": 57,
   "id": "2a20f3ba",
   "metadata": {},
   "outputs": [],
   "source": [
    "# Data storage in dataframe\n",
    "df = pd.read_csv('CIDDS.csv')"
   ]
  },
  {
   "cell_type": "code",
   "execution_count": 58,
   "id": "87920c8d",
   "metadata": {},
   "outputs": [
    {
     "data": {
      "text/html": [
       "<div>\n",
       "<style scoped>\n",
       "    .dataframe tbody tr th:only-of-type {\n",
       "        vertical-align: middle;\n",
       "    }\n",
       "\n",
       "    .dataframe tbody tr th {\n",
       "        vertical-align: top;\n",
       "    }\n",
       "\n",
       "    .dataframe thead th {\n",
       "        text-align: right;\n",
       "    }\n",
       "</style>\n",
       "<table border=\"1\" class=\"dataframe\">\n",
       "  <thead>\n",
       "    <tr style=\"text-align: right;\">\n",
       "      <th></th>\n",
       "      <th>Date first seen</th>\n",
       "      <th>Duration</th>\n",
       "      <th>Proto</th>\n",
       "      <th>Src IP Addr</th>\n",
       "      <th>Src Pt</th>\n",
       "      <th>Dst IP Addr</th>\n",
       "      <th>Dst Pt</th>\n",
       "      <th>Packets</th>\n",
       "      <th>Bytes</th>\n",
       "      <th>Flows</th>\n",
       "      <th>Flags</th>\n",
       "      <th>Tos</th>\n",
       "      <th>class</th>\n",
       "      <th>attackType</th>\n",
       "      <th>attackID</th>\n",
       "      <th>attackDescription</th>\n",
       "    </tr>\n",
       "  </thead>\n",
       "  <tbody>\n",
       "    <tr>\n",
       "      <th>0</th>\n",
       "      <td>2017-03-14 17:43:57.172</td>\n",
       "      <td>81412.697</td>\n",
       "      <td>TCP</td>\n",
       "      <td>EXT_SERVER</td>\n",
       "      <td>8082</td>\n",
       "      <td>OPENSTACK_NET</td>\n",
       "      <td>56978.0</td>\n",
       "      <td>3057</td>\n",
       "      <td>2.1 M</td>\n",
       "      <td>1</td>\n",
       "      <td>.AP...</td>\n",
       "      <td>0</td>\n",
       "      <td>normal</td>\n",
       "      <td>---</td>\n",
       "      <td>---</td>\n",
       "      <td>---</td>\n",
       "    </tr>\n",
       "    <tr>\n",
       "      <th>1</th>\n",
       "      <td>2017-03-14 17:43:57.172</td>\n",
       "      <td>81412.697</td>\n",
       "      <td>TCP</td>\n",
       "      <td>OPENSTACK_NET</td>\n",
       "      <td>56978</td>\n",
       "      <td>EXT_SERVER</td>\n",
       "      <td>8082.0</td>\n",
       "      <td>4748</td>\n",
       "      <td>2.5 M</td>\n",
       "      <td>1</td>\n",
       "      <td>.AP...</td>\n",
       "      <td>0</td>\n",
       "      <td>normal</td>\n",
       "      <td>---</td>\n",
       "      <td>---</td>\n",
       "      <td>---</td>\n",
       "    </tr>\n",
       "    <tr>\n",
       "      <th>2</th>\n",
       "      <td>2017-03-14 17:43:26.135</td>\n",
       "      <td>81504.787</td>\n",
       "      <td>TCP</td>\n",
       "      <td>EXT_SERVER</td>\n",
       "      <td>8082</td>\n",
       "      <td>OPENSTACK_NET</td>\n",
       "      <td>56979.0</td>\n",
       "      <td>8639</td>\n",
       "      <td>9.1 M</td>\n",
       "      <td>1</td>\n",
       "      <td>.AP...</td>\n",
       "      <td>0</td>\n",
       "      <td>normal</td>\n",
       "      <td>---</td>\n",
       "      <td>---</td>\n",
       "      <td>---</td>\n",
       "    </tr>\n",
       "    <tr>\n",
       "      <th>3</th>\n",
       "      <td>2017-03-14 17:43:26.135</td>\n",
       "      <td>81504.787</td>\n",
       "      <td>TCP</td>\n",
       "      <td>OPENSTACK_NET</td>\n",
       "      <td>56979</td>\n",
       "      <td>EXT_SERVER</td>\n",
       "      <td>8082.0</td>\n",
       "      <td>12024</td>\n",
       "      <td>10.3 M</td>\n",
       "      <td>1</td>\n",
       "      <td>.AP...</td>\n",
       "      <td>0</td>\n",
       "      <td>normal</td>\n",
       "      <td>---</td>\n",
       "      <td>---</td>\n",
       "      <td>---</td>\n",
       "    </tr>\n",
       "    <tr>\n",
       "      <th>4</th>\n",
       "      <td>2017-03-14 18:17:09.005</td>\n",
       "      <td>82100.692</td>\n",
       "      <td>TCP</td>\n",
       "      <td>EXT_SERVER</td>\n",
       "      <td>8082</td>\n",
       "      <td>OPENSTACK_NET</td>\n",
       "      <td>51649.0</td>\n",
       "      <td>11012</td>\n",
       "      <td>27.2 M</td>\n",
       "      <td>1</td>\n",
       "      <td>.AP.S.</td>\n",
       "      <td>0</td>\n",
       "      <td>normal</td>\n",
       "      <td>---</td>\n",
       "      <td>---</td>\n",
       "      <td>---</td>\n",
       "    </tr>\n",
       "  </tbody>\n",
       "</table>\n",
       "</div>"
      ],
      "text/plain": [
       "           Date first seen   Duration  Proto    Src IP Addr  Src Pt  \\\n",
       "0  2017-03-14 17:43:57.172  81412.697  TCP       EXT_SERVER    8082   \n",
       "1  2017-03-14 17:43:57.172  81412.697  TCP    OPENSTACK_NET   56978   \n",
       "2  2017-03-14 17:43:26.135  81504.787  TCP       EXT_SERVER    8082   \n",
       "3  2017-03-14 17:43:26.135  81504.787  TCP    OPENSTACK_NET   56979   \n",
       "4  2017-03-14 18:17:09.005  82100.692  TCP       EXT_SERVER    8082   \n",
       "\n",
       "     Dst IP Addr   Dst Pt  Packets     Bytes  Flows   Flags  Tos   class  \\\n",
       "0  OPENSTACK_NET  56978.0     3057     2.1 M      1  .AP...    0  normal   \n",
       "1     EXT_SERVER   8082.0     4748     2.5 M      1  .AP...    0  normal   \n",
       "2  OPENSTACK_NET  56979.0     8639     9.1 M      1  .AP...    0  normal   \n",
       "3     EXT_SERVER   8082.0    12024    10.3 M      1  .AP...    0  normal   \n",
       "4  OPENSTACK_NET  51649.0    11012    27.2 M      1  .AP.S.    0  normal   \n",
       "\n",
       "  attackType attackID attackDescription  \n",
       "0        ---      ---               ---  \n",
       "1        ---      ---               ---  \n",
       "2        ---      ---               ---  \n",
       "3        ---      ---               ---  \n",
       "4        ---      ---               ---  "
      ]
     },
     "execution_count": 58,
     "metadata": {},
     "output_type": "execute_result"
    }
   ],
   "source": [
    "# Show data head\n",
    "df.head()"
   ]
  },
  {
   "cell_type": "code",
   "execution_count": 59,
   "id": "d8064d59",
   "metadata": {},
   "outputs": [
    {
     "data": {
      "text/plain": [
       "(172838, 16)"
      ]
     },
     "execution_count": 59,
     "metadata": {},
     "output_type": "execute_result"
    }
   ],
   "source": [
    "# show number rows and columns\n",
    "df.shape "
   ]
  },
  {
   "cell_type": "code",
   "execution_count": 60,
   "id": "52ea860e",
   "metadata": {},
   "outputs": [
    {
     "data": {
      "text/plain": [
       "Index(['Date first seen', 'Duration', 'Proto', 'Src IP Addr', 'Src Pt',\n",
       "       'Dst IP Addr', 'Dst Pt', 'Packets', 'Bytes', 'Flows', 'Flags', 'Tos',\n",
       "       'class', 'attackType', 'attackID', 'attackDescription'],\n",
       "      dtype='object')"
      ]
     },
     "execution_count": 60,
     "metadata": {},
     "output_type": "execute_result"
    }
   ],
   "source": [
    "# show columns names\n",
    "df.columns"
   ]
  },
  {
   "cell_type": "code",
   "execution_count": 61,
   "id": "18bf2587",
   "metadata": {},
   "outputs": [
    {
     "data": {
      "text/plain": [
       "Date first seen      0\n",
       "Duration             0\n",
       "Proto                0\n",
       "Src IP Addr          0\n",
       "Src Pt               0\n",
       "Dst IP Addr          0\n",
       "Dst Pt               0\n",
       "Packets              0\n",
       "Bytes                0\n",
       "Flows                0\n",
       "Flags                0\n",
       "Tos                  0\n",
       "class                0\n",
       "attackType           0\n",
       "attackID             0\n",
       "attackDescription    0\n",
       "dtype: int64"
      ]
     },
     "execution_count": 61,
     "metadata": {},
     "output_type": "execute_result"
    }
   ],
   "source": [
    "# Checking for NULL values\n",
    "df.isnull().sum()"
   ]
  },
  {
   "cell_type": "code",
   "execution_count": 62,
   "id": "da174bf1",
   "metadata": {},
   "outputs": [
    {
     "data": {
      "text/plain": [
       "Date first seen       object\n",
       "Duration             float64\n",
       "Proto                 object\n",
       "Src IP Addr           object\n",
       "Src Pt                 int64\n",
       "Dst IP Addr           object\n",
       "Dst Pt               float64\n",
       "Packets                int64\n",
       "Bytes                 object\n",
       "Flows                  int64\n",
       "Flags                 object\n",
       "Tos                    int64\n",
       "class                 object\n",
       "attackType            object\n",
       "attackID              object\n",
       "attackDescription     object\n",
       "dtype: object"
      ]
     },
     "execution_count": 62,
     "metadata": {},
     "output_type": "execute_result"
    }
   ],
   "source": [
    "# show data type for each column\n",
    "df.dtypes"
   ]
  },
  {
   "cell_type": "code",
   "execution_count": 63,
   "id": "0b1f5e26",
   "metadata": {},
   "outputs": [
    {
     "data": {
      "text/plain": [
       "array(['normal', 'suspicious', 'unknown'], dtype=object)"
      ]
     },
     "execution_count": 63,
     "metadata": {},
     "output_type": "execute_result"
    }
   ],
   "source": [
    "# view the values in the class\n",
    "df[\"class\"].unique()"
   ]
  },
  {
   "cell_type": "code",
   "execution_count": 64,
   "id": "6c590cab",
   "metadata": {},
   "outputs": [
    {
     "data": {
      "text/plain": [
       "<AxesSubplot:>"
      ]
     },
     "execution_count": 64,
     "metadata": {},
     "output_type": "execute_result"
    },
    {
     "data": {
      "image/png": "[encoded data removed]",
      "text/plain": [
       "<Figure size 432x288 with 1 Axes>"
      ]
     },
     "metadata": {
      "needs_background": "light"
     },
     "output_type": "display_data"
    }
   ],
   "source": [
    "# visual class\n",
    "df['class'].hist(bins=5)"
   ]
  },
  {
   "cell_type": "code",
   "execution_count": 65,
   "id": "0f80dd03",
   "metadata": {},
   "outputs": [
    {
     "data": {
      "text/plain": [
       "<AxesSubplot:xlabel='class', ylabel='count'>"
      ]
     },
     "execution_count": 65,
     "metadata": {},
     "output_type": "execute_result"
    },
    {
     "data": {
      "image/png": "[encoded data removed]",
      "text/plain": [
       "<Figure size 432x288 with 1 Axes>"
      ]
     },
     "metadata": {
      "needs_background": "light"
     },
     "output_type": "display_data"
    }
   ],
   "source": [
    "sns.countplot(x = \"class\",data=df)"
   ]
  },
  {
   "cell_type": "code",
   "execution_count": null,
   "id": "9c71aac9",
   "metadata": {},
   "outputs": [
    {
     "name": "stderr",
     "output_type": "stream",
     "text": [
      "C:\\Users\\muteb\\anaconda3\\lib\\site-packages\\seaborn\\distributions.py:306: UserWarning: Dataset has 0 variance; skipping density estimate.\n",
      "  warnings.warn(msg, UserWarning)\n",
      "C:\\Users\\muteb\\anaconda3\\lib\\site-packages\\seaborn\\distributions.py:306: UserWarning: Dataset has 0 variance; skipping density estimate.\n",
      "  warnings.warn(msg, UserWarning)\n",
      "C:\\Users\\muteb\\anaconda3\\lib\\site-packages\\seaborn\\distributions.py:306: UserWarning: Dataset has 0 variance; skipping density estimate.\n",
      "  warnings.warn(msg, UserWarning)\n",
      "C:\\Users\\muteb\\anaconda3\\lib\\site-packages\\seaborn\\distributions.py:306: UserWarning: Dataset has 0 variance; skipping density estimate.\n",
      "  warnings.warn(msg, UserWarning)\n",
      "C:\\Users\\muteb\\anaconda3\\lib\\site-packages\\seaborn\\distributions.py:306: UserWarning: Dataset has 0 variance; skipping density estimate.\n",
      "  warnings.warn(msg, UserWarning)\n",
      "C:\\Users\\muteb\\anaconda3\\lib\\site-packages\\seaborn\\distributions.py:306: UserWarning: Dataset has 0 variance; skipping density estimate.\n",
      "  warnings.warn(msg, UserWarning)\n"
     ]
    }
   ],
   "source": [
    "sns.pairplot(df, hue='class');"
   ]
  },
  {
   "cell_type": "code",
   "execution_count": null,
   "id": "dd981dae",
   "metadata": {},
   "outputs": [],
   "source": [
    "# split flag\n",
    "def set_flag(data,check):\n",
    "    i=0;\n",
    "    if(check in list(data[\"Flags\"])):\n",
    "        i = 1 ;\n",
    "    return i;"
   ]
  },
  {
   "cell_type": "code",
   "execution_count": null,
   "id": "61d2dbeb",
   "metadata": {},
   "outputs": [],
   "source": [
    "df[\"A\"] = df.apply(set_flag,check =\"A\", axis = 1)\n",
    "df[\"P\"] = df.apply(set_flag,check = \"P\" ,axis = 1)\n",
    "df[\"S\"] = df.apply(set_flag,check =\"S\",axis = 1)\n",
    "df[\"R\"] = df.apply(set_flag,check=\"R\" ,axis = 1)\n",
    "df[\"F\"] = df.apply(set_flag,check =\"F\" ,axis = 1)\n",
    "df[\"x\"] = df.apply(set_flag,check =\"x\" ,axis = 1)"
   ]
  },
  {
   "cell_type": "code",
   "execution_count": null,
   "id": "11e55ce6",
   "metadata": {},
   "outputs": [],
   "source": [
    "df.columns"
   ]
  },
  {
   "cell_type": "code",
   "execution_count": null,
   "id": "2d4daa48",
   "metadata": {},
   "outputs": [],
   "source": [
    "sns.countplot(x=\"A\",hue =\"class\",data=df)"
   ]
  },
  {
   "cell_type": "code",
   "execution_count": null,
   "id": "aa3dd46a",
   "metadata": {},
   "outputs": [],
   "source": [
    "sns.countplot(x =\"Proto\",hue =\"class\",data=df)"
   ]
  },
  {
   "cell_type": "code",
   "execution_count": null,
   "id": "fe2a0031",
   "metadata": {},
   "outputs": [],
   "source": [
    "# \n",
    "import re\n",
    "def convot(data):\n",
    "    num1=data[\"Bytes\"]\n",
    "    if \"M\" in data[\"Bytes\"]:\n",
    "        num=re.findall(\"[0-9.0-9]\",data[\"Bytes\"])\n",
    "        num1 = float(\"\".join(num))*100000\n",
    "    num1 = float(num1)\n",
    "    return num1"
   ]
  },
  {
   "cell_type": "code",
   "execution_count": null,
   "id": "12630417",
   "metadata": {},
   "outputs": [],
   "source": [
    "df[\"Bytes\"] = df.apply(convot,axis = 1)"
   ]
  },
  {
   "cell_type": "code",
   "execution_count": null,
   "id": "9aae6956",
   "metadata": {},
   "outputs": [],
   "source": [
    "df.head()"
   ]
  },
  {
   "cell_type": "code",
   "execution_count": null,
   "id": "bddee530",
   "metadata": {},
   "outputs": [],
   "source": [
    "df=df.drop(columns = [\"Date first seen\",\"attackType\",\"attackID\",\"attackDescription\",\"Flows\",\"Tos\",\"Flags\"])"
   ]
  },
  {
   "cell_type": "code",
   "execution_count": null,
   "id": "f7eeb84c",
   "metadata": {},
   "outputs": [],
   "source": [
    "df.head()"
   ]
  },
  {
   "cell_type": "code",
   "execution_count": null,
   "id": "7c705570",
   "metadata": {},
   "outputs": [],
   "source": [
    "from sklearn.preprocessing import LabelEncoder\n",
    "col = [\"Proto\",\"class\",\"Src IP Addr\",\"Dst IP Addr\"]\n",
    "en = LabelEncoder()\n",
    "for colname in col:\n",
    "    df[colname]=en.fit_transform(df[colname])"
   ]
  },
  {
   "cell_type": "code",
   "execution_count": null,
   "id": "bd52a790",
   "metadata": {},
   "outputs": [],
   "source": [
    "df.head()"
   ]
  },
  {
   "cell_type": "code",
   "execution_count": null,
   "id": "1402dfb8",
   "metadata": {},
   "outputs": [],
   "source": [
    "df.dtypes"
   ]
  },
  {
   "cell_type": "markdown",
   "id": "6f0ec065",
   "metadata": {},
   "source": [
    "# Model"
   ]
  },
  {
   "cell_type": "code",
   "execution_count": null,
   "id": "a43ea105",
   "metadata": {},
   "outputs": [],
   "source": [
    "from sklearn.model_selection import train_test_split\n",
    "y = df[\"class\"]\n",
    "x = df.drop(columns = [\"class\"])\n",
    "X_train, X_test, y_train, y_test = train_test_split(x, y, test_size=0.3, random_state=42)"
   ]
  },
  {
   "cell_type": "code",
   "execution_count": null,
   "id": "0b2e14e6",
   "metadata": {},
   "outputs": [],
   "source": [
    "from sklearn.tree import DecisionTreeClassifier\n",
    "\n",
    "dtc = DecisionTreeClassifier() \n",
    "dtc = dtc.fit(X_train,y_train)\n",
    "y_pred = dtc.predict(X_test)"
   ]
  },
  {
   "cell_type": "code",
   "execution_count": null,
   "id": "a53f85f4",
   "metadata": {},
   "outputs": [],
   "source": [
    "acc = dtc.score(X_test, y_test)\n",
    "\n",
    "print(\"Accuracy: {:.2f}%\".format(acc * 100))"
   ]
  },
  {
   "cell_type": "code",
   "execution_count": null,
   "id": "a5d16953",
   "metadata": {},
   "outputs": [],
   "source": [
    "sample_input = pd.DataFrame(pd.Series({\n",
    "    'Duration': 0.000,\n",
    "    'Proto': 2,\n",
    "    'Src IP Addr': 23,\n",
    "    'rc Pt': 65,\n",
    "    'Dst IP Addr': 7,\n",
    "    'Dst Pt': 96978.0,\n",
    "    'Packets': 12024,\n",
    "    'Bytes': 5720000.0,\n",
    "    'A': 0,\n",
    "    'P': 0,\n",
    "    'S': 0,\n",
    "    'R': 1,\n",
    "    'F': 1,\n",
    "    'x': 1,\n",
    "})).T\n",
    "\n",
    "prediction = dtc.predict(sample_input)\n",
    "print(\"Class:\", prediction)"
   ]
  }
 ],
 "metadata": {
  "kernelspec": {
   "display_name": "Python 3",
   "language": "python",
   "name": "python3"
  },
  "language_info": {
   "codemirror_mode": {
    "name": "ipython",
    "version": 3
   },
   "file_extension": ".py",
   "mimetype": "text/x-python",
   "name": "python",
   "nbconvert_exporter": "python",
   "pygments_lexer": "ipython3",
   "version": "3.8.8"
  }
 },
 "nbformat": 4,
 "nbformat_minor": 5
}
